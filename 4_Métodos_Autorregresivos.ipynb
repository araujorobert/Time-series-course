{
  "nbformat": 4,
  "nbformat_minor": 0,
  "metadata": {
    "colab": {
      "name": "4. Métodos Autorregresivos.ipynb",
      "provenance": [],
      "authorship_tag": "ABX9TyNPLDDb3cdaR6XdnOav2VhL",
      "include_colab_link": true
    },
    "kernelspec": {
      "name": "python3",
      "display_name": "Python 3"
    },
    "language_info": {
      "name": "python"
    }
  },
  "cells": [
    {
      "cell_type": "markdown",
      "metadata": {
        "id": "view-in-github",
        "colab_type": "text"
      },
      "source": [
        "<a href=\"https://colab.research.google.com/github/araujorobert/Time-series-course/blob/main/4_M%C3%A9todos_Autorregresivos.ipynb\" target=\"_parent\"><img src=\"https://colab.research.google.com/assets/colab-badge.svg\" alt=\"Open In Colab\"/></a>"
      ]
    },
    {
      "cell_type": "code",
      "execution_count": 2,
      "metadata": {
        "id": "nR_f0XjGRrYq",
        "colab": {
          "base_uri": "https://localhost:8080/"
        },
        "outputId": "2e758104-8fec-48b3-8764-be88d0d95fef"
      },
      "outputs": [
        {
          "output_type": "stream",
          "name": "stderr",
          "text": [
            "/usr/local/lib/python3.7/dist-packages/statsmodels/tools/_testing.py:19: FutureWarning: pandas.util.testing is deprecated. Use the functions in the public API at pandas.testing instead.\n",
            "  import pandas.util.testing as tm\n"
          ]
        }
      ],
      "source": [
        "import pandas as pd \n",
        "import numpy as np\n",
        "import matplotlib.pyplot as plt\n",
        "import statsmodels.graphics.tsaplots as sgt\n",
        "import statsmodels.tsa.stattools as sts      # Herramientas estadisticas\n",
        "from statsmodels.tsa.arima_model import ARMA\n",
        "from scipy.stats.distributions import chi2\n",
        "import seaborn as sb\n",
        "sb.set()"
      ]
    },
    {
      "cell_type": "code",
      "source": [
        "data = pd.read_csv('Index2018.csv')\n",
        "# Transformamos la columna \"date\" de string a objeto tipo fecha\n",
        "data['date'] = pd.to_datetime(data['date'], dayfirst=True)\n",
        "# Establecemos la fecha como indice del dataframe\n",
        "data = data.set_index('date')\n",
        "# Aplicamos la opcion business day para no tener problemas con los fines de semana\n",
        "data = data.asfreq('b')\n",
        "# cambiamos los valores nulos usando la siguiente observacion\n",
        "data = data.fillna(method='ffill')\n",
        "data.head()"
      ],
      "metadata": {
        "colab": {
          "base_uri": "https://localhost:8080/",
          "height": 238
        },
        "id": "PJSyfCgwSaJI",
        "outputId": "dc3ecc4d-ad94-4bb8-befd-62c9319d90eb"
      },
      "execution_count": 4,
      "outputs": [
        {
          "output_type": "execute_result",
          "data": {
            "text/plain": [
              "               spx      dax     ftse    nikkei\n",
              "date                                          \n",
              "1994-01-07  469.90  2224.95  3445.98  18124.01\n",
              "1994-01-10  475.27  2225.00  3440.58  18443.44\n",
              "1994-01-11  474.13  2228.10  3413.77  18485.25\n",
              "1994-01-12  474.17  2182.06  3372.02  18793.88\n",
              "1994-01-13  472.47  2142.37  3360.01  18577.26"
            ],
            "text/html": [
              "\n",
              "  <div id=\"df-e502ed75-9459-4400-897a-27d6be84a8fb\">\n",
              "    <div class=\"colab-df-container\">\n",
              "      <div>\n",
              "<style scoped>\n",
              "    .dataframe tbody tr th:only-of-type {\n",
              "        vertical-align: middle;\n",
              "    }\n",
              "\n",
              "    .dataframe tbody tr th {\n",
              "        vertical-align: top;\n",
              "    }\n",
              "\n",
              "    .dataframe thead th {\n",
              "        text-align: right;\n",
              "    }\n",
              "</style>\n",
              "<table border=\"1\" class=\"dataframe\">\n",
              "  <thead>\n",
              "    <tr style=\"text-align: right;\">\n",
              "      <th></th>\n",
              "      <th>spx</th>\n",
              "      <th>dax</th>\n",
              "      <th>ftse</th>\n",
              "      <th>nikkei</th>\n",
              "    </tr>\n",
              "    <tr>\n",
              "      <th>date</th>\n",
              "      <th></th>\n",
              "      <th></th>\n",
              "      <th></th>\n",
              "      <th></th>\n",
              "    </tr>\n",
              "  </thead>\n",
              "  <tbody>\n",
              "    <tr>\n",
              "      <th>1994-01-07</th>\n",
              "      <td>469.90</td>\n",
              "      <td>2224.95</td>\n",
              "      <td>3445.98</td>\n",
              "      <td>18124.01</td>\n",
              "    </tr>\n",
              "    <tr>\n",
              "      <th>1994-01-10</th>\n",
              "      <td>475.27</td>\n",
              "      <td>2225.00</td>\n",
              "      <td>3440.58</td>\n",
              "      <td>18443.44</td>\n",
              "    </tr>\n",
              "    <tr>\n",
              "      <th>1994-01-11</th>\n",
              "      <td>474.13</td>\n",
              "      <td>2228.10</td>\n",
              "      <td>3413.77</td>\n",
              "      <td>18485.25</td>\n",
              "    </tr>\n",
              "    <tr>\n",
              "      <th>1994-01-12</th>\n",
              "      <td>474.17</td>\n",
              "      <td>2182.06</td>\n",
              "      <td>3372.02</td>\n",
              "      <td>18793.88</td>\n",
              "    </tr>\n",
              "    <tr>\n",
              "      <th>1994-01-13</th>\n",
              "      <td>472.47</td>\n",
              "      <td>2142.37</td>\n",
              "      <td>3360.01</td>\n",
              "      <td>18577.26</td>\n",
              "    </tr>\n",
              "  </tbody>\n",
              "</table>\n",
              "</div>\n",
              "      <button class=\"colab-df-convert\" onclick=\"convertToInteractive('df-e502ed75-9459-4400-897a-27d6be84a8fb')\"\n",
              "              title=\"Convert this dataframe to an interactive table.\"\n",
              "              style=\"display:none;\">\n",
              "        \n",
              "  <svg xmlns=\"http://www.w3.org/2000/svg\" height=\"24px\"viewBox=\"0 0 24 24\"\n",
              "       width=\"24px\">\n",
              "    <path d=\"M0 0h24v24H0V0z\" fill=\"none\"/>\n",
              "    <path d=\"M18.56 5.44l.94 2.06.94-2.06 2.06-.94-2.06-.94-.94-2.06-.94 2.06-2.06.94zm-11 1L8.5 8.5l.94-2.06 2.06-.94-2.06-.94L8.5 2.5l-.94 2.06-2.06.94zm10 10l.94 2.06.94-2.06 2.06-.94-2.06-.94-.94-2.06-.94 2.06-2.06.94z\"/><path d=\"M17.41 7.96l-1.37-1.37c-.4-.4-.92-.59-1.43-.59-.52 0-1.04.2-1.43.59L10.3 9.45l-7.72 7.72c-.78.78-.78 2.05 0 2.83L4 21.41c.39.39.9.59 1.41.59.51 0 1.02-.2 1.41-.59l7.78-7.78 2.81-2.81c.8-.78.8-2.07 0-2.86zM5.41 20L4 18.59l7.72-7.72 1.47 1.35L5.41 20z\"/>\n",
              "  </svg>\n",
              "      </button>\n",
              "      \n",
              "  <style>\n",
              "    .colab-df-container {\n",
              "      display:flex;\n",
              "      flex-wrap:wrap;\n",
              "      gap: 12px;\n",
              "    }\n",
              "\n",
              "    .colab-df-convert {\n",
              "      background-color: #E8F0FE;\n",
              "      border: none;\n",
              "      border-radius: 50%;\n",
              "      cursor: pointer;\n",
              "      display: none;\n",
              "      fill: #1967D2;\n",
              "      height: 32px;\n",
              "      padding: 0 0 0 0;\n",
              "      width: 32px;\n",
              "    }\n",
              "\n",
              "    .colab-df-convert:hover {\n",
              "      background-color: #E2EBFA;\n",
              "      box-shadow: 0px 1px 2px rgba(60, 64, 67, 0.3), 0px 1px 3px 1px rgba(60, 64, 67, 0.15);\n",
              "      fill: #174EA6;\n",
              "    }\n",
              "\n",
              "    [theme=dark] .colab-df-convert {\n",
              "      background-color: #3B4455;\n",
              "      fill: #D2E3FC;\n",
              "    }\n",
              "\n",
              "    [theme=dark] .colab-df-convert:hover {\n",
              "      background-color: #434B5C;\n",
              "      box-shadow: 0px 1px 3px 1px rgba(0, 0, 0, 0.15);\n",
              "      filter: drop-shadow(0px 1px 2px rgba(0, 0, 0, 0.3));\n",
              "      fill: #FFFFFF;\n",
              "    }\n",
              "  </style>\n",
              "\n",
              "      <script>\n",
              "        const buttonEl =\n",
              "          document.querySelector('#df-e502ed75-9459-4400-897a-27d6be84a8fb button.colab-df-convert');\n",
              "        buttonEl.style.display =\n",
              "          google.colab.kernel.accessAllowed ? 'block' : 'none';\n",
              "\n",
              "        async function convertToInteractive(key) {\n",
              "          const element = document.querySelector('#df-e502ed75-9459-4400-897a-27d6be84a8fb');\n",
              "          const dataTable =\n",
              "            await google.colab.kernel.invokeFunction('convertToInteractive',\n",
              "                                                     [key], {});\n",
              "          if (!dataTable) return;\n",
              "\n",
              "          const docLinkHtml = 'Like what you see? Visit the ' +\n",
              "            '<a target=\"_blank\" href=https://colab.research.google.com/notebooks/data_table.ipynb>data table notebook</a>'\n",
              "            + ' to learn more about interactive tables.';\n",
              "          element.innerHTML = '';\n",
              "          dataTable['output_type'] = 'display_data';\n",
              "          await google.colab.output.renderOutput(dataTable, element);\n",
              "          const docLink = document.createElement('div');\n",
              "          docLink.innerHTML = docLinkHtml;\n",
              "          element.appendChild(docLink);\n",
              "        }\n",
              "      </script>\n",
              "    </div>\n",
              "  </div>\n",
              "  "
            ]
          },
          "metadata": {},
          "execution_count": 4
        }
      ]
    },
    {
      "cell_type": "code",
      "source": [
        "# Creamos la columna market value\n",
        "data['market_value'] = data.ftse\n",
        "# Dropeamos todas las demas columnas\n",
        "data.drop(['spx','dax','ftse','nikkei'],1,inplace=True)\n",
        "data.head()"
      ],
      "metadata": {
        "colab": {
          "base_uri": "https://localhost:8080/",
          "height": 292
        },
        "id": "d5jAJ1huSwbO",
        "outputId": "aafc52dd-37a8-433c-fe56-6197430e5b95"
      },
      "execution_count": 5,
      "outputs": [
        {
          "output_type": "stream",
          "name": "stderr",
          "text": [
            "/usr/local/lib/python3.7/dist-packages/ipykernel_launcher.py:4: FutureWarning: In a future version of pandas all arguments of DataFrame.drop except for the argument 'labels' will be keyword-only\n",
            "  after removing the cwd from sys.path.\n"
          ]
        },
        {
          "output_type": "execute_result",
          "data": {
            "text/plain": [
              "            market_value\n",
              "date                    \n",
              "1994-01-07       3445.98\n",
              "1994-01-10       3440.58\n",
              "1994-01-11       3413.77\n",
              "1994-01-12       3372.02\n",
              "1994-01-13       3360.01"
            ],
            "text/html": [
              "\n",
              "  <div id=\"df-a502fdcd-88d9-4800-9f1b-15120c642a0a\">\n",
              "    <div class=\"colab-df-container\">\n",
              "      <div>\n",
              "<style scoped>\n",
              "    .dataframe tbody tr th:only-of-type {\n",
              "        vertical-align: middle;\n",
              "    }\n",
              "\n",
              "    .dataframe tbody tr th {\n",
              "        vertical-align: top;\n",
              "    }\n",
              "\n",
              "    .dataframe thead th {\n",
              "        text-align: right;\n",
              "    }\n",
              "</style>\n",
              "<table border=\"1\" class=\"dataframe\">\n",
              "  <thead>\n",
              "    <tr style=\"text-align: right;\">\n",
              "      <th></th>\n",
              "      <th>market_value</th>\n",
              "    </tr>\n",
              "    <tr>\n",
              "      <th>date</th>\n",
              "      <th></th>\n",
              "    </tr>\n",
              "  </thead>\n",
              "  <tbody>\n",
              "    <tr>\n",
              "      <th>1994-01-07</th>\n",
              "      <td>3445.98</td>\n",
              "    </tr>\n",
              "    <tr>\n",
              "      <th>1994-01-10</th>\n",
              "      <td>3440.58</td>\n",
              "    </tr>\n",
              "    <tr>\n",
              "      <th>1994-01-11</th>\n",
              "      <td>3413.77</td>\n",
              "    </tr>\n",
              "    <tr>\n",
              "      <th>1994-01-12</th>\n",
              "      <td>3372.02</td>\n",
              "    </tr>\n",
              "    <tr>\n",
              "      <th>1994-01-13</th>\n",
              "      <td>3360.01</td>\n",
              "    </tr>\n",
              "  </tbody>\n",
              "</table>\n",
              "</div>\n",
              "      <button class=\"colab-df-convert\" onclick=\"convertToInteractive('df-a502fdcd-88d9-4800-9f1b-15120c642a0a')\"\n",
              "              title=\"Convert this dataframe to an interactive table.\"\n",
              "              style=\"display:none;\">\n",
              "        \n",
              "  <svg xmlns=\"http://www.w3.org/2000/svg\" height=\"24px\"viewBox=\"0 0 24 24\"\n",
              "       width=\"24px\">\n",
              "    <path d=\"M0 0h24v24H0V0z\" fill=\"none\"/>\n",
              "    <path d=\"M18.56 5.44l.94 2.06.94-2.06 2.06-.94-2.06-.94-.94-2.06-.94 2.06-2.06.94zm-11 1L8.5 8.5l.94-2.06 2.06-.94-2.06-.94L8.5 2.5l-.94 2.06-2.06.94zm10 10l.94 2.06.94-2.06 2.06-.94-2.06-.94-.94-2.06-.94 2.06-2.06.94z\"/><path d=\"M17.41 7.96l-1.37-1.37c-.4-.4-.92-.59-1.43-.59-.52 0-1.04.2-1.43.59L10.3 9.45l-7.72 7.72c-.78.78-.78 2.05 0 2.83L4 21.41c.39.39.9.59 1.41.59.51 0 1.02-.2 1.41-.59l7.78-7.78 2.81-2.81c.8-.78.8-2.07 0-2.86zM5.41 20L4 18.59l7.72-7.72 1.47 1.35L5.41 20z\"/>\n",
              "  </svg>\n",
              "      </button>\n",
              "      \n",
              "  <style>\n",
              "    .colab-df-container {\n",
              "      display:flex;\n",
              "      flex-wrap:wrap;\n",
              "      gap: 12px;\n",
              "    }\n",
              "\n",
              "    .colab-df-convert {\n",
              "      background-color: #E8F0FE;\n",
              "      border: none;\n",
              "      border-radius: 50%;\n",
              "      cursor: pointer;\n",
              "      display: none;\n",
              "      fill: #1967D2;\n",
              "      height: 32px;\n",
              "      padding: 0 0 0 0;\n",
              "      width: 32px;\n",
              "    }\n",
              "\n",
              "    .colab-df-convert:hover {\n",
              "      background-color: #E2EBFA;\n",
              "      box-shadow: 0px 1px 2px rgba(60, 64, 67, 0.3), 0px 1px 3px 1px rgba(60, 64, 67, 0.15);\n",
              "      fill: #174EA6;\n",
              "    }\n",
              "\n",
              "    [theme=dark] .colab-df-convert {\n",
              "      background-color: #3B4455;\n",
              "      fill: #D2E3FC;\n",
              "    }\n",
              "\n",
              "    [theme=dark] .colab-df-convert:hover {\n",
              "      background-color: #434B5C;\n",
              "      box-shadow: 0px 1px 3px 1px rgba(0, 0, 0, 0.15);\n",
              "      filter: drop-shadow(0px 1px 2px rgba(0, 0, 0, 0.3));\n",
              "      fill: #FFFFFF;\n",
              "    }\n",
              "  </style>\n",
              "\n",
              "      <script>\n",
              "        const buttonEl =\n",
              "          document.querySelector('#df-a502fdcd-88d9-4800-9f1b-15120c642a0a button.colab-df-convert');\n",
              "        buttonEl.style.display =\n",
              "          google.colab.kernel.accessAllowed ? 'block' : 'none';\n",
              "\n",
              "        async function convertToInteractive(key) {\n",
              "          const element = document.querySelector('#df-a502fdcd-88d9-4800-9f1b-15120c642a0a');\n",
              "          const dataTable =\n",
              "            await google.colab.kernel.invokeFunction('convertToInteractive',\n",
              "                                                     [key], {});\n",
              "          if (!dataTable) return;\n",
              "\n",
              "          const docLinkHtml = 'Like what you see? Visit the ' +\n",
              "            '<a target=\"_blank\" href=https://colab.research.google.com/notebooks/data_table.ipynb>data table notebook</a>'\n",
              "            + ' to learn more about interactive tables.';\n",
              "          element.innerHTML = '';\n",
              "          dataTable['output_type'] = 'display_data';\n",
              "          await google.colab.output.renderOutput(dataTable, element);\n",
              "          const docLink = document.createElement('div');\n",
              "          docLink.innerHTML = docLinkHtml;\n",
              "          element.appendChild(docLink);\n",
              "        }\n",
              "      </script>\n",
              "    </div>\n",
              "  </div>\n",
              "  "
            ]
          },
          "metadata": {},
          "execution_count": 5
        }
      ]
    },
    {
      "cell_type": "code",
      "source": [
        "# Generamos los conjuntos de entrenamiento y validacion\n",
        "size = int(len(data)*0.8)\n",
        "df, df_test = data.iloc[:size],data.iloc[size:]\n",
        "\n",
        "# Combrobamos las longitudes\n",
        "print('La longitud del conjunto de entrenamiento es',len(df)/len(data))\n",
        "print('La longitud del conjunto de prueba es',len(df_test)/len(data))"
      ],
      "metadata": {
        "colab": {
          "base_uri": "https://localhost:8080/"
        },
        "id": "iNIa1KbZTSp4",
        "outputId": "fbfbf2fc-e970-4ad4-da28-8b2ecf1eff93"
      },
      "execution_count": 6,
      "outputs": [
        {
          "output_type": "stream",
          "name": "stdout",
          "text": [
            "La longitud del conjunto de entrenamiento es 0.799904412936116\n",
            "La longitud del conjunto de prueba es 0.20009558706388403\n"
          ]
        }
      ]
    },
    {
      "cell_type": "markdown",
      "source": [
        "## ACF (Funcion de auto-correlacion)"
      ],
      "metadata": {
        "id": "2or5lwkfU7-7"
      }
    },
    {
      "cell_type": "code",
      "source": [
        "sgt.plot_acf(df['market_value'], zero=False, lags=40)\n",
        "plt.title('ACF for prices', size=20)\n",
        "plt.show()"
      ],
      "metadata": {
        "colab": {
          "base_uri": "https://localhost:8080/",
          "height": 289
        },
        "id": "AQ0O7Z73UykA",
        "outputId": "4db29436-e36d-4fb9-b41e-b8aee9baaa1f"
      },
      "execution_count": 7,
      "outputs": [
        {
          "output_type": "display_data",
          "data": {
            "text/plain": [
              "<Figure size 432x288 with 1 Axes>"
            ],
            "image/png": "[encoded data removed]"
          },
          "metadata": {}
        }
      ]
    },
    {
      "cell_type": "markdown",
      "source": [
        "# PACF"
      ],
      "metadata": {
        "id": "Esq8kYBxV-q7"
      }
    },
    {
      "cell_type": "code",
      "source": [
        "sgt.plot_pacf(df['market_value'], zero=False, lags=40, alpha=0.05, method=('ols'))\n",
        "plt.title('ACF for prices', size=20)\n",
        "plt.ylim(-0.04,0.08)\n",
        "plt.show()"
      ],
      "metadata": {
        "colab": {
          "base_uri": "https://localhost:8080/",
          "height": 289
        },
        "id": "U9F3h_SyVUxA",
        "outputId": "1d792b17-4030-49e8-e35b-6270f33e31a1"
      },
      "execution_count": 8,
      "outputs": [
        {
          "output_type": "display_data",
          "data": {
            "text/plain": [
              "<Figure size 432x288 with 1 Axes>"
            ],
            "image/png": "[encoded data removed]"
          },
          "metadata": {}
        }
      ]
    },
    {
      "cell_type": "markdown",
      "source": [
        "## The $AR_1$ model"
      ],
      "metadata": {
        "id": "clcNmyw1YlcZ"
      }
    },
    {
      "cell_type": "code",
      "source": [
        "model_ar = ARMA(df.market_value, order=(1,0))"
      ],
      "metadata": {
        "id": "lMYU-cxUWJn8"
      },
      "execution_count": 9,
      "outputs": []
    },
    {
      "cell_type": "code",
      "source": [
        "results_ar = model_ar.fit()"
      ],
      "metadata": {
        "id": "BP362TEIZ6oh"
      },
      "execution_count": 10,
      "outputs": []
    },
    {
      "cell_type": "code",
      "source": [
        "results_ar.summary()"
      ],
      "metadata": {
        "colab": {
          "base_uri": "https://localhost:8080/",
          "height": 314
        },
        "id": "O-bI_BYlZ845",
        "outputId": "9f57ca4a-3b99-460b-a676-47f75a2be640"
      },
      "execution_count": 11,
      "outputs": [
        {
          "output_type": "execute_result",
          "data": {
            "text/plain": [
              "<class 'statsmodels.iolib.summary.Summary'>\n",
              "\"\"\"\n",
              "                              ARMA Model Results                              \n",
              "==============================================================================\n",
              "Dep. Variable:           market_value   No. Observations:                 5021\n",
              "Model:                     ARMA(1, 0)   Log Likelihood              -27622.599\n",
              "Method:                       css-mle   S.D. of innovations             59.258\n",
              "Date:                Mon, 04 Apr 2022   AIC                          55251.198\n",
              "Time:                        21:18:42   BIC                          55270.762\n",
              "Sample:                    01-07-1994   HQIC                         55258.054\n",
              "                         - 04-05-2013                                         \n",
              "======================================================================================\n",
              "                         coef    std err          z      P>|z|      [0.025      0.975]\n",
              "--------------------------------------------------------------------------------------\n",
              "const               5067.4707    486.503     10.416      0.000    4113.942    6021.000\n",
              "ar.L1.market_value     0.9985      0.001   1298.545      0.000       0.997       1.000\n",
              "                                    Roots                                    \n",
              "=============================================================================\n",
              "                  Real          Imaginary           Modulus         Frequency\n",
              "-----------------------------------------------------------------------------\n",
              "AR.1            1.0015           +0.0000j            1.0015            0.0000\n",
              "-----------------------------------------------------------------------------\n",
              "\"\"\""
            ],
            "text/html": [
              "<table class=\"simpletable\">\n",
              "<caption>ARMA Model Results</caption>\n",
              "<tr>\n",
              "  <th>Dep. Variable:</th>   <td>market_value</td>   <th>  No. Observations:  </th>    <td>5021</td>   \n",
              "</tr>\n",
              "<tr>\n",
              "  <th>Model:</th>            <td>ARMA(1, 0)</td>    <th>  Log Likelihood     </th> <td>-27622.599</td>\n",
              "</tr>\n",
              "<tr>\n",
              "  <th>Method:</th>             <td>css-mle</td>     <th>  S.D. of innovations</th>   <td>59.258</td>  \n",
              "</tr>\n",
              "<tr>\n",
              "  <th>Date:</th>          <td>Mon, 04 Apr 2022</td> <th>  AIC                </th>  <td>55251.198</td>\n",
              "</tr>\n",
              "<tr>\n",
              "  <th>Time:</th>              <td>21:18:42</td>     <th>  BIC                </th>  <td>55270.762</td>\n",
              "</tr>\n",
              "<tr>\n",
              "  <th>Sample:</th>           <td>01-07-1994</td>    <th>  HQIC               </th>  <td>55258.054</td>\n",
              "</tr>\n",
              "<tr>\n",
              "  <th></th>                 <td>- 04-05-2013</td>   <th>                     </th>      <td> </td>    \n",
              "</tr>\n",
              "</table>\n",
              "<table class=\"simpletable\">\n",
              "<tr>\n",
              "           <td></td>             <th>coef</th>     <th>std err</th>      <th>z</th>      <th>P>|z|</th>  <th>[0.025</th>    <th>0.975]</th>  \n",
              "</tr>\n",
              "<tr>\n",
              "  <th>const</th>              <td> 5067.4707</td> <td>  486.503</td> <td>   10.416</td> <td> 0.000</td> <td> 4113.942</td> <td> 6021.000</td>\n",
              "</tr>\n",
              "<tr>\n",
              "  <th>ar.L1.market_value</th> <td>    0.9985</td> <td>    0.001</td> <td> 1298.545</td> <td> 0.000</td> <td>    0.997</td> <td>    1.000</td>\n",
              "</tr>\n",
              "</table>\n",
              "<table class=\"simpletable\">\n",
              "<caption>Roots</caption>\n",
              "<tr>\n",
              "    <td></td>   <th>            Real</th>  <th>         Imaginary</th> <th>         Modulus</th>  <th>        Frequency</th>\n",
              "</tr>\n",
              "<tr>\n",
              "  <th>AR.1</th> <td>           1.0015</td> <td>          +0.0000j</td> <td>           1.0015</td> <td>           0.0000</td>\n",
              "</tr>\n",
              "</table>"
            ]
          },
          "metadata": {},
          "execution_count": 11
        }
      ]
    },
    {
      "cell_type": "markdown",
      "source": [
        "## Highier lag AR model"
      ],
      "metadata": {
        "id": "-iehQT-rbyZ5"
      }
    },
    {
      "cell_type": "code",
      "source": [
        "model_ar2 = ARMA(df.market_value, order=(2,0))\n",
        "results_ar2 = model_ar2.fit()\n",
        "results_ar2.summary()"
      ],
      "metadata": {
        "colab": {
          "base_uri": "https://localhost:8080/",
          "height": 357
        },
        "id": "lMSIyVJWaAmR",
        "outputId": "0a1ab6b8-771b-46ad-8a12-b10d01e91e82"
      },
      "execution_count": 12,
      "outputs": [
        {
          "output_type": "execute_result",
          "data": {
            "text/plain": [
              "<class 'statsmodels.iolib.summary.Summary'>\n",
              "\"\"\"\n",
              "                              ARMA Model Results                              \n",
              "==============================================================================\n",
              "Dep. Variable:           market_value   No. Observations:                 5021\n",
              "Model:                     ARMA(2, 0)   Log Likelihood              -27621.871\n",
              "Method:                       css-mle   S.D. of innovations             59.249\n",
              "Date:                Mon, 04 Apr 2022   AIC                          55251.742\n",
              "Time:                        21:18:45   BIC                          55277.827\n",
              "Sample:                    01-07-1994   HQIC                         55260.883\n",
              "                         - 04-05-2013                                         \n",
              "======================================================================================\n",
              "                         coef    std err          z      P>|z|      [0.025      0.975]\n",
              "--------------------------------------------------------------------------------------\n",
              "const               5089.6411    495.670     10.268      0.000    4118.145    6061.137\n",
              "ar.L1.market_value     0.9814      0.014     69.595      0.000       0.954       1.009\n",
              "ar.L2.market_value     0.0171      0.014      1.211      0.226      -0.011       0.045\n",
              "                                    Roots                                    \n",
              "=============================================================================\n",
              "                  Real          Imaginary           Modulus         Frequency\n",
              "-----------------------------------------------------------------------------\n",
              "AR.1            1.0015           +0.0000j            1.0015            0.0000\n",
              "AR.2          -58.4629           +0.0000j           58.4629            0.5000\n",
              "-----------------------------------------------------------------------------\n",
              "\"\"\""
            ],
            "text/html": [
              "<table class=\"simpletable\">\n",
              "<caption>ARMA Model Results</caption>\n",
              "<tr>\n",
              "  <th>Dep. Variable:</th>   <td>market_value</td>   <th>  No. Observations:  </th>    <td>5021</td>   \n",
              "</tr>\n",
              "<tr>\n",
              "  <th>Model:</th>            <td>ARMA(2, 0)</td>    <th>  Log Likelihood     </th> <td>-27621.871</td>\n",
              "</tr>\n",
              "<tr>\n",
              "  <th>Method:</th>             <td>css-mle</td>     <th>  S.D. of innovations</th>   <td>59.249</td>  \n",
              "</tr>\n",
              "<tr>\n",
              "  <th>Date:</th>          <td>Mon, 04 Apr 2022</td> <th>  AIC                </th>  <td>55251.742</td>\n",
              "</tr>\n",
              "<tr>\n",
              "  <th>Time:</th>              <td>21:18:45</td>     <th>  BIC                </th>  <td>55277.827</td>\n",
              "</tr>\n",
              "<tr>\n",
              "  <th>Sample:</th>           <td>01-07-1994</td>    <th>  HQIC               </th>  <td>55260.883</td>\n",
              "</tr>\n",
              "<tr>\n",
              "  <th></th>                 <td>- 04-05-2013</td>   <th>                     </th>      <td> </td>    \n",
              "</tr>\n",
              "</table>\n",
              "<table class=\"simpletable\">\n",
              "<tr>\n",
              "           <td></td>             <th>coef</th>     <th>std err</th>      <th>z</th>      <th>P>|z|</th>  <th>[0.025</th>    <th>0.975]</th>  \n",
              "</tr>\n",
              "<tr>\n",
              "  <th>const</th>              <td> 5089.6411</td> <td>  495.670</td> <td>   10.268</td> <td> 0.000</td> <td> 4118.145</td> <td> 6061.137</td>\n",
              "</tr>\n",
              "<tr>\n",
              "  <th>ar.L1.market_value</th> <td>    0.9814</td> <td>    0.014</td> <td>   69.595</td> <td> 0.000</td> <td>    0.954</td> <td>    1.009</td>\n",
              "</tr>\n",
              "<tr>\n",
              "  <th>ar.L2.market_value</th> <td>    0.0171</td> <td>    0.014</td> <td>    1.211</td> <td> 0.226</td> <td>   -0.011</td> <td>    0.045</td>\n",
              "</tr>\n",
              "</table>\n",
              "<table class=\"simpletable\">\n",
              "<caption>Roots</caption>\n",
              "<tr>\n",
              "    <td></td>   <th>            Real</th>  <th>         Imaginary</th> <th>         Modulus</th>  <th>        Frequency</th>\n",
              "</tr>\n",
              "<tr>\n",
              "  <th>AR.1</th> <td>           1.0015</td> <td>          +0.0000j</td> <td>           1.0015</td> <td>           0.0000</td>\n",
              "</tr>\n",
              "<tr>\n",
              "  <th>AR.2</th> <td>         -58.4629</td> <td>          +0.0000j</td> <td>          58.4629</td> <td>           0.5000</td>\n",
              "</tr>\n",
              "</table>"
            ]
          },
          "metadata": {},
          "execution_count": 12
        }
      ]
    },
    {
      "cell_type": "code",
      "source": [
        "model_ar3 = ARMA(df.market_value, order=(3,0))\n",
        "results_ar3 = model_ar3.fit()\n",
        "results_ar3.summary()"
      ],
      "metadata": {
        "colab": {
          "base_uri": "https://localhost:8080/",
          "height": 399
        },
        "id": "a49zCURlcE89",
        "outputId": "1a57f2ef-0abd-4c34-d11d-48d47788243a"
      },
      "execution_count": 13,
      "outputs": [
        {
          "output_type": "execute_result",
          "data": {
            "text/plain": [
              "<class 'statsmodels.iolib.summary.Summary'>\n",
              "\"\"\"\n",
              "                              ARMA Model Results                              \n",
              "==============================================================================\n",
              "Dep. Variable:           market_value   No. Observations:                 5021\n",
              "Model:                     ARMA(3, 0)   Log Likelihood              -27615.871\n",
              "Method:                       css-mle   S.D. of innovations             59.178\n",
              "Date:                Mon, 04 Apr 2022   AIC                          55241.742\n",
              "Time:                        21:18:49   BIC                          55274.349\n",
              "Sample:                    01-07-1994   HQIC                         55253.168\n",
              "                         - 04-05-2013                                         \n",
              "======================================================================================\n",
              "                         coef    std err          z      P>|z|      [0.025      0.975]\n",
              "--------------------------------------------------------------------------------------\n",
              "const               5089.6411    520.356      9.781      0.000    4069.761    6109.521\n",
              "ar.L1.market_value     0.9806      0.014     69.619      0.000       0.953       1.008\n",
              "ar.L2.market_value    -0.0309      0.020     -1.563      0.118      -0.070       0.008\n",
              "ar.L3.market_value     0.0489      0.014      3.466      0.001       0.021       0.077\n",
              "                                    Roots                                    \n",
              "=============================================================================\n",
              "                  Real          Imaginary           Modulus         Frequency\n",
              "-----------------------------------------------------------------------------\n",
              "AR.1            1.0013           -0.0000j            1.0013           -0.0000\n",
              "AR.2           -0.1850           -4.5161j            4.5199           -0.2565\n",
              "AR.3           -0.1850           +4.5161j            4.5199            0.2565\n",
              "-----------------------------------------------------------------------------\n",
              "\"\"\""
            ],
            "text/html": [
              "<table class=\"simpletable\">\n",
              "<caption>ARMA Model Results</caption>\n",
              "<tr>\n",
              "  <th>Dep. Variable:</th>   <td>market_value</td>   <th>  No. Observations:  </th>    <td>5021</td>   \n",
              "</tr>\n",
              "<tr>\n",
              "  <th>Model:</th>            <td>ARMA(3, 0)</td>    <th>  Log Likelihood     </th> <td>-27615.871</td>\n",
              "</tr>\n",
              "<tr>\n",
              "  <th>Method:</th>             <td>css-mle</td>     <th>  S.D. of innovations</th>   <td>59.178</td>  \n",
              "</tr>\n",
              "<tr>\n",
              "  <th>Date:</th>          <td>Mon, 04 Apr 2022</td> <th>  AIC                </th>  <td>55241.742</td>\n",
              "</tr>\n",
              "<tr>\n",
              "  <th>Time:</th>              <td>21:18:49</td>     <th>  BIC                </th>  <td>55274.349</td>\n",
              "</tr>\n",
              "<tr>\n",
              "  <th>Sample:</th>           <td>01-07-1994</td>    <th>  HQIC               </th>  <td>55253.168</td>\n",
              "</tr>\n",
              "<tr>\n",
              "  <th></th>                 <td>- 04-05-2013</td>   <th>                     </th>      <td> </td>    \n",
              "</tr>\n",
              "</table>\n",
              "<table class=\"simpletable\">\n",
              "<tr>\n",
              "           <td></td>             <th>coef</th>     <th>std err</th>      <th>z</th>      <th>P>|z|</th>  <th>[0.025</th>    <th>0.975]</th>  \n",
              "</tr>\n",
              "<tr>\n",
              "  <th>const</th>              <td> 5089.6411</td> <td>  520.356</td> <td>    9.781</td> <td> 0.000</td> <td> 4069.761</td> <td> 6109.521</td>\n",
              "</tr>\n",
              "<tr>\n",
              "  <th>ar.L1.market_value</th> <td>    0.9806</td> <td>    0.014</td> <td>   69.619</td> <td> 0.000</td> <td>    0.953</td> <td>    1.008</td>\n",
              "</tr>\n",
              "<tr>\n",
              "  <th>ar.L2.market_value</th> <td>   -0.0309</td> <td>    0.020</td> <td>   -1.563</td> <td> 0.118</td> <td>   -0.070</td> <td>    0.008</td>\n",
              "</tr>\n",
              "<tr>\n",
              "  <th>ar.L3.market_value</th> <td>    0.0489</td> <td>    0.014</td> <td>    3.466</td> <td> 0.001</td> <td>    0.021</td> <td>    0.077</td>\n",
              "</tr>\n",
              "</table>\n",
              "<table class=\"simpletable\">\n",
              "<caption>Roots</caption>\n",
              "<tr>\n",
              "    <td></td>   <th>            Real</th>  <th>         Imaginary</th> <th>         Modulus</th>  <th>        Frequency</th>\n",
              "</tr>\n",
              "<tr>\n",
              "  <th>AR.1</th> <td>           1.0013</td> <td>          -0.0000j</td> <td>           1.0013</td> <td>          -0.0000</td>\n",
              "</tr>\n",
              "<tr>\n",
              "  <th>AR.2</th> <td>          -0.1850</td> <td>          -4.5161j</td> <td>           4.5199</td> <td>          -0.2565</td>\n",
              "</tr>\n",
              "<tr>\n",
              "  <th>AR.3</th> <td>          -0.1850</td> <td>          +4.5161j</td> <td>           4.5199</td> <td>           0.2565</td>\n",
              "</tr>\n",
              "</table>"
            ]
          },
          "metadata": {},
          "execution_count": 13
        }
      ]
    },
    {
      "cell_type": "code",
      "source": [
        "model_ar4 = ARMA(df.market_value, order=(4,0))\n",
        "results_ar4 = model_ar4.fit()\n",
        "results_ar4.summary()"
      ],
      "metadata": {
        "colab": {
          "base_uri": "https://localhost:8080/",
          "height": 442
        },
        "id": "jjPd0MuFcHMm",
        "outputId": "debe111b-38d4-4927-8c8b-30ae2baf5a29"
      },
      "execution_count": 14,
      "outputs": [
        {
          "output_type": "execute_result",
          "data": {
            "text/plain": [
              "<class 'statsmodels.iolib.summary.Summary'>\n",
              "\"\"\"\n",
              "                              ARMA Model Results                              \n",
              "==============================================================================\n",
              "Dep. Variable:           market_value   No. Observations:                 5021\n",
              "Model:                     ARMA(4, 0)   Log Likelihood              -27602.565\n",
              "Method:                       css-mle   S.D. of innovations             59.022\n",
              "Date:                Mon, 04 Apr 2022   AIC                          55217.130\n",
              "Time:                        21:18:51   BIC                          55256.258\n",
              "Sample:                    01-07-1994   HQIC                         55230.841\n",
              "                         - 04-05-2013                                         \n",
              "======================================================================================\n",
              "                         coef    std err          z      P>|z|      [0.025      0.975]\n",
              "--------------------------------------------------------------------------------------\n",
              "const               5089.6413    560.009      9.088      0.000    3992.043    6187.239\n",
              "ar.L1.market_value     0.9770      0.014     69.492      0.000       0.949       1.005\n",
              "ar.L2.market_value    -0.0286      0.020     -1.455      0.146      -0.067       0.010\n",
              "ar.L3.market_value    -0.0224      0.020     -1.135      0.256      -0.061       0.016\n",
              "ar.L4.market_value     0.0728      0.014      5.166      0.000       0.045       0.100\n",
              "                                    Roots                                    \n",
              "=============================================================================\n",
              "                  Real          Imaginary           Modulus         Frequency\n",
              "-----------------------------------------------------------------------------\n",
              "AR.1            1.0011           -0.0000j            1.0011           -0.0000\n",
              "AR.2            0.9550           -2.0884j            2.2964           -0.1817\n",
              "AR.3            0.9550           +2.0884j            2.2964            0.1817\n",
              "AR.4           -2.6036           -0.0000j            2.6036           -0.5000\n",
              "-----------------------------------------------------------------------------\n",
              "\"\"\""
            ],
            "text/html": [
              "<table class=\"simpletable\">\n",
              "<caption>ARMA Model Results</caption>\n",
              "<tr>\n",
              "  <th>Dep. Variable:</th>   <td>market_value</td>   <th>  No. Observations:  </th>    <td>5021</td>   \n",
              "</tr>\n",
              "<tr>\n",
              "  <th>Model:</th>            <td>ARMA(4, 0)</td>    <th>  Log Likelihood     </th> <td>-27602.565</td>\n",
              "</tr>\n",
              "<tr>\n",
              "  <th>Method:</th>             <td>css-mle</td>     <th>  S.D. of innovations</th>   <td>59.022</td>  \n",
              "</tr>\n",
              "<tr>\n",
              "  <th>Date:</th>          <td>Mon, 04 Apr 2022</td> <th>  AIC                </th>  <td>55217.130</td>\n",
              "</tr>\n",
              "<tr>\n",
              "  <th>Time:</th>              <td>21:18:51</td>     <th>  BIC                </th>  <td>55256.258</td>\n",
              "</tr>\n",
              "<tr>\n",
              "  <th>Sample:</th>           <td>01-07-1994</td>    <th>  HQIC               </th>  <td>55230.841</td>\n",
              "</tr>\n",
              "<tr>\n",
              "  <th></th>                 <td>- 04-05-2013</td>   <th>                     </th>      <td> </td>    \n",
              "</tr>\n",
              "</table>\n",
              "<table class=\"simpletable\">\n",
              "<tr>\n",
              "           <td></td>             <th>coef</th>     <th>std err</th>      <th>z</th>      <th>P>|z|</th>  <th>[0.025</th>    <th>0.975]</th>  \n",
              "</tr>\n",
              "<tr>\n",
              "  <th>const</th>              <td> 5089.6413</td> <td>  560.009</td> <td>    9.088</td> <td> 0.000</td> <td> 3992.043</td> <td> 6187.239</td>\n",
              "</tr>\n",
              "<tr>\n",
              "  <th>ar.L1.market_value</th> <td>    0.9770</td> <td>    0.014</td> <td>   69.492</td> <td> 0.000</td> <td>    0.949</td> <td>    1.005</td>\n",
              "</tr>\n",
              "<tr>\n",
              "  <th>ar.L2.market_value</th> <td>   -0.0286</td> <td>    0.020</td> <td>   -1.455</td> <td> 0.146</td> <td>   -0.067</td> <td>    0.010</td>\n",
              "</tr>\n",
              "<tr>\n",
              "  <th>ar.L3.market_value</th> <td>   -0.0224</td> <td>    0.020</td> <td>   -1.135</td> <td> 0.256</td> <td>   -0.061</td> <td>    0.016</td>\n",
              "</tr>\n",
              "<tr>\n",
              "  <th>ar.L4.market_value</th> <td>    0.0728</td> <td>    0.014</td> <td>    5.166</td> <td> 0.000</td> <td>    0.045</td> <td>    0.100</td>\n",
              "</tr>\n",
              "</table>\n",
              "<table class=\"simpletable\">\n",
              "<caption>Roots</caption>\n",
              "<tr>\n",
              "    <td></td>   <th>            Real</th>  <th>         Imaginary</th> <th>         Modulus</th>  <th>        Frequency</th>\n",
              "</tr>\n",
              "<tr>\n",
              "  <th>AR.1</th> <td>           1.0011</td> <td>          -0.0000j</td> <td>           1.0011</td> <td>          -0.0000</td>\n",
              "</tr>\n",
              "<tr>\n",
              "  <th>AR.2</th> <td>           0.9550</td> <td>          -2.0884j</td> <td>           2.2964</td> <td>          -0.1817</td>\n",
              "</tr>\n",
              "<tr>\n",
              "  <th>AR.3</th> <td>           0.9550</td> <td>          +2.0884j</td> <td>           2.2964</td> <td>           0.1817</td>\n",
              "</tr>\n",
              "<tr>\n",
              "  <th>AR.4</th> <td>          -2.6036</td> <td>          -0.0000j</td> <td>           2.6036</td> <td>          -0.5000</td>\n",
              "</tr>\n",
              "</table>"
            ]
          },
          "metadata": {},
          "execution_count": 14
        }
      ]
    },
    {
      "cell_type": "markdown",
      "source": [
        "## LLR Test\n",
        "Este es un contraste de hipotesis que nos dice si dos modelos son significativamente similares. En otras palabras nos ayuda a decidir si el aumentar la complejidad al modelo nos aporta una mejora en la precisión de la predicción.\n",
        "\n",
        "$$\n",
        "H_0: Los\\ modelos\\ son\\ similares\\\\\n",
        "H_1: Los\\ modelos\\ no\\ son\\ similares\n",
        "$$"
      ],
      "metadata": {
        "id": "_MWvToaieZmG"
      }
    },
    {
      "cell_type": "code",
      "source": [
        "def LLR_test(mod_1, mod_2, DF=1):\n",
        "    L1 = mod_1.llf\n",
        "    L2 = mod_2.llf\n",
        "    LR = (2*(L2-L1))\n",
        "    p = chi2.sf(LR, DF).round(3)\n",
        "    return p"
      ],
      "metadata": {
        "id": "CczDHEEWeaaR"
      },
      "execution_count": 15,
      "outputs": []
    },
    {
      "cell_type": "markdown",
      "source": [
        "## Comparing Higher-Lag AR Models"
      ],
      "metadata": {
        "id": "w88XmYFthaeG"
      }
    },
    {
      "cell_type": "code",
      "source": [
        "p_valor=LLR_test(results_ar2, results_ar3)\n",
        "if p_valor>0.05:\n",
        "  print('El p-valor es > 0.05, por lo tanto aceptamos la hipotesis nula')\n",
        "  print('Los modelos son similares, por lo tanto nos quedamos con el mas facil')\n",
        "if p_valor<0.05:\n",
        "  print('El p-valor es < 0.05, por lo tanto rechazamos la hipotesis nula')\n",
        "  print('Los modelos NO son similares, por lo tanto nos quedamos con el mas complejo')  "
      ],
      "metadata": {
        "colab": {
          "base_uri": "https://localhost:8080/"
        },
        "id": "7xnvJV-7hbI7",
        "outputId": "391cc3d7-ebd9-4cf9-82ea-1c5cf70101fd"
      },
      "execution_count": 19,
      "outputs": [
        {
          "output_type": "stream",
          "name": "stdout",
          "text": [
            "El p-valor es < 0.05, por lo tanto rechazamos la hipotesis nula\n",
            "Los modelos NO son similares, por lo tanto nos quedamos con el mas complejo\n"
          ]
        }
      ]
    },
    {
      "cell_type": "code",
      "source": [
        "p_valor=LLR_test(results_ar3, results_ar4)\n",
        "if p_valor>0.05:\n",
        "  print('El p-valor es > 0.05, por lo tanto aceptamos la hipotesis nula')\n",
        "  print('Los modelos son similares, por lo tanto nos quedamos con el mas facil')\n",
        "if p_valor<0.05:\n",
        "  print('El p-valor es < 0.05, por lo tanto rechazamos la hipotesis nula')\n",
        "  print('Los modelos NO son similares, por lo tanto nos quedamos con el mas complejo') "
      ],
      "metadata": {
        "colab": {
          "base_uri": "https://localhost:8080/"
        },
        "id": "uK2dWD1Thc7D",
        "outputId": "22e6b264-95e1-47e7-de71-a3e7d6638851"
      },
      "execution_count": 20,
      "outputs": [
        {
          "output_type": "stream",
          "name": "stdout",
          "text": [
            "El p-valor es < 0.05, por lo tanto rechazamos la hipotesis nula\n",
            "Los modelos NO son similares, por lo tanto nos quedamos con el mas complejo\n"
          ]
        }
      ]
    },
    {
      "cell_type": "code",
      "source": [
        "model_ar5 = ARMA(df.market_value, order=(5,0))\n",
        "results_ar5 = model_ar5.fit()\n",
        "print(results_ar5.summary())\n",
        "\n",
        "p_valor=LLR_test(results_ar4, results_ar5)\n",
        "if p_valor>0.05:\n",
        "  print('El p-valor es > 0.05, por lo tanto aceptamos la hipotesis nula')\n",
        "  print('Los modelos son similares, por lo tanto nos quedamos con el mas facil')\n",
        "if p_valor<0.05:\n",
        "  print('El p-valor es < 0.05, por lo tanto rechazamos la hipotesis nula')\n",
        "  print('Los modelos NO son similares, por lo tanto nos quedamos con el mas complejo') "
      ],
      "metadata": {
        "colab": {
          "base_uri": "https://localhost:8080/"
        },
        "id": "saM99zfNiAik",
        "outputId": "c3d3ecc2-6e89-47e4-a916-32acbafaebae"
      },
      "execution_count": 22,
      "outputs": [
        {
          "output_type": "stream",
          "name": "stdout",
          "text": [
            "                              ARMA Model Results                              \n",
            "==============================================================================\n",
            "Dep. Variable:           market_value   No. Observations:                 5021\n",
            "Model:                     ARMA(5, 0)   Log Likelihood              -27600.524\n",
            "Method:                       css-mle   S.D. of innovations             58.997\n",
            "Date:                Mon, 04 Apr 2022   AIC                          55215.049\n",
            "Time:                        21:44:06   BIC                          55260.698\n",
            "Sample:                    01-07-1994   HQIC                         55231.045\n",
            "                         - 04-05-2013                                         \n",
            "======================================================================================\n",
            "                         coef    std err          z      P>|z|      [0.025      0.975]\n",
            "--------------------------------------------------------------------------------------\n",
            "const               5369.4922    703.058      7.637      0.000    3991.525    6747.460\n",
            "ar.L1.market_value     0.9792      0.014     69.511      0.000       0.952       1.007\n",
            "ar.L2.market_value    -0.0293      0.020     -1.488      0.137      -0.068       0.009\n",
            "ar.L3.market_value    -0.0232      0.020     -1.178      0.239      -0.062       0.015\n",
            "ar.L4.market_value     0.1018      0.020      5.167      0.000       0.063       0.140\n",
            "ar.L5.market_value    -0.0297      0.014     -2.102      0.036      -0.057      -0.002\n",
            "                                    Roots                                    \n",
            "=============================================================================\n",
            "                  Real          Imaginary           Modulus         Frequency\n",
            "-----------------------------------------------------------------------------\n",
            "AR.1            1.0011           -0.0000j            1.0011           -0.0000\n",
            "AR.2           -2.0609           -0.0000j            2.0609           -0.5000\n",
            "AR.3            0.4277           -2.0764j            2.1200           -0.2177\n",
            "AR.4            0.4277           +2.0764j            2.1200            0.2177\n",
            "AR.5            3.6339           -0.0000j            3.6339           -0.0000\n",
            "-----------------------------------------------------------------------------\n",
            "El p-valor es < 0.05, por lo tanto rechazamos la hipotesis nula\n",
            "Los modelos NO son similares, por lo tanto nos quedamos con el mas complejo\n"
          ]
        }
      ]
    },
    {
      "cell_type": "code",
      "source": [
        "model_ar6 = ARMA(df.market_value, order=(6,0))\n",
        "results_ar6 = model_ar6.fit()\n",
        "print(results_ar6.summary())\n",
        "\n",
        "p_valor=LLR_test(results_ar5, results_ar6)\n",
        "if p_valor>0.05:\n",
        "  print('El p-valor es > 0.05, por lo tanto aceptamos la hipotesis nula')\n",
        "  print('Los modelos son similares, por lo tanto nos quedamos con el mas facil')\n",
        "if p_valor<0.05:\n",
        "  print('El p-valor es < 0.05, por lo tanto rechazamos la hipotesis nula')\n",
        "  print('Los modelos NO son similares, por lo tanto nos quedamos con el mas complejo') "
      ],
      "metadata": {
        "colab": {
          "base_uri": "https://localhost:8080/"
        },
        "id": "lLLY0SmiiC28",
        "outputId": "8e278bc7-1f52-49e1-f6a3-fd8208d99dc7"
      },
      "execution_count": 26,
      "outputs": [
        {
          "output_type": "stream",
          "name": "stdout",
          "text": [
            "                              ARMA Model Results                              \n",
            "==============================================================================\n",
            "Dep. Variable:           market_value   No. Observations:                 5021\n",
            "Model:                     ARMA(6, 0)   Log Likelihood              -27596.474\n",
            "Method:                       css-mle   S.D. of innovations             58.950\n",
            "Date:                Mon, 04 Apr 2022   AIC                          55208.947\n",
            "Time:                        21:46:40   BIC                          55261.118\n",
            "Sample:                    01-07-1994   HQIC                         55227.229\n",
            "                         - 04-05-2013                                         \n",
            "======================================================================================\n",
            "                         coef    std err          z      P>|z|      [0.025      0.975]\n",
            "--------------------------------------------------------------------------------------\n",
            "const               5089.6411    565.227      9.005      0.000    3981.816    6197.466\n",
            "ar.L1.market_value     0.9803      0.014     69.604      0.000       0.953       1.008\n",
            "ar.L2.market_value    -0.0333      0.020     -1.687      0.092      -0.072       0.005\n",
            "ar.L3.market_value    -0.0223      0.020     -1.134      0.257      -0.061       0.016\n",
            "ar.L4.market_value     0.1029      0.020      5.227      0.000       0.064       0.141\n",
            "ar.L5.market_value    -0.0682      0.020     -3.454      0.001      -0.107      -0.029\n",
            "ar.L6.market_value     0.0393      0.014      2.785      0.005       0.012       0.067\n",
            "                                    Roots                                    \n",
            "=============================================================================\n",
            "                  Real          Imaginary           Modulus         Frequency\n",
            "-----------------------------------------------------------------------------\n",
            "AR.1            1.0011           -0.0000j            1.0011           -0.0000\n",
            "AR.2           -1.6828           -0.0000j            1.6828           -0.5000\n",
            "AR.3           -0.3031           -1.8985j            1.9226           -0.2752\n",
            "AR.4           -0.3031           +1.8985j            1.9226            0.2752\n",
            "AR.5            1.5114           -1.3426j            2.0216           -0.1156\n",
            "AR.6            1.5114           +1.3426j            2.0216            0.1156\n",
            "-----------------------------------------------------------------------------\n",
            "El p-valor es < 0.05, por lo tanto rechazamos la hipotesis nula\n",
            "Los modelos NO son similares, por lo tanto nos quedamos con el mas complejo\n"
          ]
        }
      ]
    },
    {
      "cell_type": "code",
      "source": [
        "model_ar7 = ARMA(df.market_value, order=(7,0))\n",
        "results_ar7 = model_ar7.fit()\n",
        "print(results_ar7.summary())\n",
        "\n",
        "p_valor=LLR_test(results_ar6, results_ar7)\n",
        "if p_valor>0.05:\n",
        "  print('El p-valor es > 0.05, por lo tanto aceptamos la hipotesis nula')\n",
        "  print('Los modelos son similares, por lo tanto nos quedamos con el mas facil')\n",
        "if p_valor<0.05:\n",
        "  print('El p-valor es < 0.05, por lo tanto rechazamos la hipotesis nula')\n",
        "  print('Los modelos NO son similares, por lo tanto nos quedamos con el mas complejo') "
      ],
      "metadata": {
        "colab": {
          "base_uri": "https://localhost:8080/"
        },
        "id": "7cCrdA9wiZbr",
        "outputId": "1136c451-078b-4dc1-fad9-1fd562f644ab"
      },
      "execution_count": 27,
      "outputs": [
        {
          "output_type": "stream",
          "name": "stdout",
          "text": [
            "                              ARMA Model Results                              \n",
            "==============================================================================\n",
            "Dep. Variable:           market_value   No. Observations:                 5021\n",
            "Model:                     ARMA(7, 0)   Log Likelihood              -27591.900\n",
            "Method:                       css-mle   S.D. of innovations             58.896\n",
            "Date:                Mon, 04 Apr 2022   AIC                          55201.799\n",
            "Time:                        21:46:57   BIC                          55260.492\n",
            "Sample:                    01-07-1994   HQIC                         55222.366\n",
            "                         - 04-05-2013                                         \n",
            "======================================================================================\n",
            "                         coef    std err          z      P>|z|      [0.025      0.975]\n",
            "--------------------------------------------------------------------------------------\n",
            "const               5089.6414    589.532      8.633      0.000    3934.180    6245.103\n",
            "ar.L1.market_value     0.9786      0.014     69.518      0.000       0.951       1.006\n",
            "ar.L2.market_value    -0.0304      0.020     -1.540      0.124      -0.069       0.008\n",
            "ar.L3.market_value    -0.0267      0.020     -1.353      0.176      -0.065       0.012\n",
            "ar.L4.market_value     0.1038      0.020      5.279      0.000       0.065       0.142\n",
            "ar.L5.market_value    -0.0668      0.020     -3.385      0.001      -0.105      -0.028\n",
            "ar.L6.market_value    -0.0025      0.020     -0.127      0.899      -0.041       0.036\n",
            "ar.L7.market_value     0.0427      0.014      3.026      0.002       0.015       0.070\n",
            "                                    Roots                                    \n",
            "=============================================================================\n",
            "                  Real          Imaginary           Modulus         Frequency\n",
            "-----------------------------------------------------------------------------\n",
            "AR.1            1.0010           -0.0000j            1.0010           -0.0000\n",
            "AR.2            1.3301           -0.9296j            1.6228           -0.0971\n",
            "AR.3            1.3301           +0.9296j            1.6228            0.0971\n",
            "AR.4           -0.0400           -1.5870j            1.5875           -0.2540\n",
            "AR.5           -0.0400           +1.5870j            1.5875            0.2540\n",
            "AR.6           -1.7612           -0.6517j            1.8779           -0.4436\n",
            "AR.7           -1.7612           +0.6517j            1.8779            0.4436\n",
            "-----------------------------------------------------------------------------\n",
            "El p-valor es < 0.05, por lo tanto rechazamos la hipotesis nula\n",
            "Los modelos NO son similares, por lo tanto nos quedamos con el mas complejo\n"
          ]
        }
      ]
    },
    {
      "cell_type": "code",
      "source": [
        "model_ar8 = ARMA(df.market_value, order=(8,0))\n",
        "results_ar8 = model_ar8.fit()\n",
        "print(results_ar8.summary())\n",
        "\n",
        "p_valor=LLR_test(results_ar7, results_ar8)\n",
        "if p_valor>0.05:\n",
        "  print('El p-valor es > 0.05, por lo tanto aceptamos la hipotesis nula')\n",
        "  print('Los modelos son similares, por lo tanto nos quedamos con el mas facil')\n",
        "if p_valor<0.05:\n",
        "  print('El p-valor es < 0.05, por lo tanto rechazamos la hipotesis nula')\n",
        "  print('Los modelos NO son similares, por lo tanto nos quedamos con el mas complejo') "
      ],
      "metadata": {
        "colab": {
          "base_uri": "https://localhost:8080/"
        },
        "id": "1h-V1rNIipJb",
        "outputId": "5438652f-caae-4dae-9ec8-4bf748226563"
      },
      "execution_count": 28,
      "outputs": [
        {
          "output_type": "stream",
          "name": "stdout",
          "text": [
            "                              ARMA Model Results                              \n",
            "==============================================================================\n",
            "Dep. Variable:           market_value   No. Observations:                 5021\n",
            "Model:                     ARMA(8, 0)   Log Likelihood              -27591.739\n",
            "Method:                       css-mle   S.D. of innovations             58.894\n",
            "Date:                Mon, 04 Apr 2022   AIC                          55203.478\n",
            "Time:                        21:47:11   BIC                          55268.692\n",
            "Sample:                    01-07-1994   HQIC                         55226.329\n",
            "                         - 04-05-2013                                         \n",
            "======================================================================================\n",
            "                         coef    std err          z      P>|z|      [0.025      0.975]\n",
            "--------------------------------------------------------------------------------------\n",
            "const               5089.6413    585.014      8.700      0.000    3943.035    6236.248\n",
            "ar.L1.market_value     0.9790      0.014     69.477      0.000       0.951       1.007\n",
            "ar.L2.market_value    -0.0304      0.020     -1.541      0.123      -0.069       0.008\n",
            "ar.L3.market_value    -0.0272      0.020     -1.379      0.168      -0.066       0.011\n",
            "ar.L4.market_value     0.1047      0.020      5.306      0.000       0.066       0.143\n",
            "ar.L5.market_value    -0.0670      0.020     -3.396      0.001      -0.106      -0.028\n",
            "ar.L6.market_value    -0.0028      0.020     -0.139      0.889      -0.041       0.036\n",
            "ar.L7.market_value     0.0505      0.020      2.559      0.011       0.012       0.089\n",
            "ar.L8.market_value    -0.0080      0.014     -0.567      0.571      -0.036       0.020\n",
            "                                    Roots                                    \n",
            "=============================================================================\n",
            "                  Real          Imaginary           Modulus         Frequency\n",
            "-----------------------------------------------------------------------------\n",
            "AR.1            1.0010           -0.0000j            1.0010           -0.0000\n",
            "AR.2           -1.6223           -0.6323j            1.7412           -0.4409\n",
            "AR.3           -1.6223           +0.6323j            1.7412            0.4409\n",
            "AR.4           -0.0911           -1.5626j            1.5653           -0.2593\n",
            "AR.5           -0.0911           +1.5626j            1.5653            0.2593\n",
            "AR.6            1.3256           -1.0019j            1.6616           -0.1030\n",
            "AR.7            1.3256           +1.0019j            1.6616            0.1030\n",
            "AR.8            6.0861           -0.0000j            6.0861           -0.0000\n",
            "-----------------------------------------------------------------------------\n",
            "El p-valor es > 0.05, por lo tanto aceptamos la hipotesis nula\n",
            "Los modelos son similares, por lo tanto nos quedamos con el mas facil\n"
          ]
        }
      ]
    },
    {
      "cell_type": "code",
      "source": [
        "# Por ultimo contrastamos los modelos 1 y 7 \n",
        "print(\"LLR test: \" + str(LLR_test(results_ar, results_ar7, DF = 6)))\n",
        "\n",
        "p_valor=LLR_test(results_ar, results_ar7)\n",
        "if p_valor>0.05:\n",
        "  print('El p-valor es > 0.05, por lo tanto aceptamos la hipotesis nula')\n",
        "  print('Los modelos son similares, por lo tanto nos quedamos con el mas facil')\n",
        "if p_valor<0.05:\n",
        "  print('El p-valor es < 0.05, por lo tanto rechazamos la hipotesis nula')\n",
        "  print('Los modelos NO son similares, por lo tanto nos quedamos con el mas complejo') "
      ],
      "metadata": {
        "colab": {
          "base_uri": "https://localhost:8080/"
        },
        "id": "CaJlVoFEisjj",
        "outputId": "eb2710b9-49cf-4961-b5eb-cb805a636cd7"
      },
      "execution_count": 30,
      "outputs": [
        {
          "output_type": "stream",
          "name": "stdout",
          "text": [
            "LLR test: 0.0\n",
            "El p-valor es < 0.05, por lo tanto rechazamos la hipotesis nula\n",
            "Los modelos NO son similares, por lo tanto nos quedamos con el mas complejo\n"
          ]
        }
      ]
    },
    {
      "cell_type": "markdown",
      "source": [
        "- Notece que hemos despreciado el modelo 8 porque su ultimo p-valor fue no significativo. \n",
        "- Como prueba final, contrastamos el modelo 1 con el 7 para ver si vale la pena la complejidad del 7 sobre el 1.\n",
        "- A pesar de ser mejor el 7 que los anteriores, note que tiene coeficientes no significativos (aquellos en los que el p-valor es mayor a 0.05) esto se debe a que los modelo autoregresivos funcionan mejor con series estacionarias y ésta no lo es.\n",
        "\n",
        "## Residual Analysis"
      ],
      "metadata": {
        "id": "YNLZwImVo_4Y"
      }
    },
    {
      "cell_type": "code",
      "source": [
        "# Calculamos los residuos del modelo 7\n",
        "df['res_price'] = results_ar7.resid"
      ],
      "metadata": {
        "colab": {
          "base_uri": "https://localhost:8080/"
        },
        "id": "Leay3xqlpgaU",
        "outputId": "b47c15fe-c029-475d-9d5b-f4fb624bb009"
      },
      "execution_count": 32,
      "outputs": [
        {
          "output_type": "stream",
          "name": "stderr",
          "text": [
            "/usr/local/lib/python3.7/dist-packages/ipykernel_launcher.py:2: SettingWithCopyWarning: \n",
            "A value is trying to be set on a copy of a slice from a DataFrame.\n",
            "Try using .loc[row_indexer,col_indexer] = value instead\n",
            "\n",
            "See the caveats in the documentation: https://pandas.pydata.org/pandas-docs/stable/user_guide/indexing.html#returning-a-view-versus-a-copy\n",
            "  \n"
          ]
        }
      ]
    },
    {
      "cell_type": "code",
      "source": [
        "# Los residuos deben ser semejantes a ruido blanco, es decir, no deben tener correlación, o en otras palabras, deben ser estaiconarios.\n",
        "# Para esto aplicamos el test de DF\n",
        "sts.adfuller(df.res_price)"
      ],
      "metadata": {
        "colab": {
          "base_uri": "https://localhost:8080/"
        },
        "id": "4lbqHLfjrT5q",
        "outputId": "dca61ac3-768a-4bb9-ced9-7e0e0a585f92"
      },
      "execution_count": 33,
      "outputs": [
        {
          "output_type": "execute_result",
          "data": {
            "text/plain": [
              "(-76.07470750864573,\n",
              " 0.0,\n",
              " 0,\n",
              " 5020,\n",
              " {'1%': -3.431653316130827,\n",
              "  '10%': -2.5670765656497516,\n",
              "  '5%': -2.8621159253018247},\n",
              " 54842.414964516414)"
            ]
          },
          "metadata": {},
          "execution_count": 33
        }
      ]
    },
    {
      "cell_type": "code",
      "source": [
        "# El p-valor es cero, por lo tanto rechazamos la hipotesis nula que nos dice que los resoduos no son estacionarios.\n",
        "# Para corroborar esto hacemos la grafica de correlacion\n",
        "sgt.plot_acf(df.res_price, zero = False, lags = 40)\n",
        "plt.title(\"ACF Of Residuals for Prices\",size=24)\n",
        "plt.show()"
      ],
      "metadata": {
        "colab": {
          "base_uri": "https://localhost:8080/",
          "height": 293
        },
        "id": "Io_Z_hB4rye6",
        "outputId": "f65b8521-e7a5-4f2b-a4c7-e80b6ed59890"
      },
      "execution_count": 34,
      "outputs": [
        {
          "output_type": "display_data",
          "data": {
            "text/plain": [
              "<Figure size 432x288 with 1 Axes>"
            ],
            "image/png": "[encoded data removed]"
          },
          "metadata": {}
        }
      ]
    },
    {
      "cell_type": "markdown",
      "source": [
        "Vemos que caen dentro del area sombreada, lo que nos dice que son muy cercanos a cero y por lo tanto es ruido blanco"
      ],
      "metadata": {
        "id": "DrGuacjysPZl"
      }
    },
    {
      "cell_type": "code",
      "source": [
        "# Por ultimo ploteamos los residuos\n",
        "df.res_price[1:].plot(figsize=(20,5))\n",
        "plt.title(\"Residuals of Prices\",size=24)\n",
        "plt.show()"
      ],
      "metadata": {
        "colab": {
          "base_uri": "https://localhost:8080/",
          "height": 364
        },
        "id": "CimUlr2qsBUp",
        "outputId": "78d09669-7c5c-46d1-d75b-e28367cb0616"
      },
      "execution_count": 35,
      "outputs": [
        {
          "output_type": "display_data",
          "data": {
            "text/plain": [
              "<Figure size 1440x360 with 1 Axes>"
            ],
            "image/png": "[encoded data removed]"
          },
          "metadata": {}
        }
      ]
    },
    {
      "cell_type": "code",
      "source": [
        "# La grafica anterior termina de confirmar nuestras sospechas."
      ],
      "metadata": {
        "id": "SqwQzrhusGyA"
      },
      "execution_count": 36,
      "outputs": []
    }
  ]
}